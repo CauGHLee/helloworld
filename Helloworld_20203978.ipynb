{
  "nbformat": 4,
  "nbformat_minor": 0,
  "metadata": {
    "colab": {
      "name": "Helloworld_20203978.ipynb",
      "provenance": [],
      "authorship_tag": "ABX9TyOoFHBpvDEEDFQjDW9eQbwd",
      "include_colab_link": true
    },
    "kernelspec": {
      "name": "python3",
      "display_name": "Python 3"
    }
  },
  "cells": [
    {
      "cell_type": "markdown",
      "metadata": {
        "id": "view-in-github",
        "colab_type": "text"
      },
      "source": [
        "<a href=\"https://colab.research.google.com/github/CauGHLee/helloworld/blob/main/Helloworld_20203978.ipynb\" target=\"_parent\"><img src=\"https://colab.research.google.com/assets/colab-badge.svg\" alt=\"Open In Colab\"/></a>"
      ]
    },
    {
      "cell_type": "code",
      "metadata": {
        "id": "qaSYFepysNq6",
        "outputId": "63d0f13a-7fda-4d33-c2d3-699f44d61b4c",
        "colab": {
          "base_uri": "https://localhost:8080/",
          "height": 53
        }
      },
      "source": [
        "print('Helloworld!',20203978)\n",
        "print(10 * 10)"
      ],
      "execution_count": 2,
      "outputs": [
        {
          "output_type": "stream",
          "text": [
            "Helloworld! 20203978\n",
            "100\n"
          ],
          "name": "stdout"
        }
      ]
    }
  ]
}